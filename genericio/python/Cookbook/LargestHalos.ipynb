{
 "cells": [
  {
   "cell_type": "code",
   "execution_count": 1,
   "metadata": {},
   "outputs": [],
   "source": [
    "import sys \n",
    "import argparse \n",
    "import matplotlib \n",
    "import numpy as np \n",
    "import pandas as pd \n",
    "import dask.dataframe as dd\n",
    "import time"
   ]
  },
  {
   "cell_type": "code",
   "execution_count": 2,
   "metadata": {},
   "outputs": [],
   "source": [
    "# Enter the path to the library (/Users/pascalgrosset/projects/VizAly-Vis_IO/genericio/python on OSX)\n",
    "#generic_io_path = input()\n",
    "generic_io_path = \"/Users/pascalgrosset/projects/VizAly-Vis_IO/genericio/python\"\n",
    "#/home/pascal/projects/VizAly-Vis_IO/genericio/python"
   ]
  },
  {
   "cell_type": "code",
   "execution_count": 3,
   "metadata": {},
   "outputs": [],
   "source": [
    "sys.path.append(generic_io_path) \n",
    "import genericio as gio"
   ]
  },
  {
   "cell_type": "code",
   "execution_count": 4,
   "metadata": {},
   "outputs": [],
   "source": [
    "#halo_file_name = input()\n",
    "halo_file_name = \"/Users/pascalgrosset/data/Argonne/Halos/STEP499/m000-499.fofproperties\"\n",
    "#/datastore/Cosmology/Halos/b0168/STEP499/m000-499.fofproperties"
   ]
  },
  {
   "cell_type": "code",
   "execution_count": 5,
   "metadata": {},
   "outputs": [
    {
     "name": "stdout",
     "output_type": "stream",
     "text": [
      "time in s: 0.283710241317749 s\n"
     ]
    }
   ],
   "source": [
    "start = time.time()\n",
    "halo_selected_scalars = ['fof_halo_center_x']\n",
    "halo_df = gio.create_dataframe(halo_file_name, halo_selected_scalars)\n",
    "end = time.time()\n",
    "print(\"time in s:\", (end-start), \"s\")"
   ]
  },
  {
   "cell_type": "code",
   "execution_count": 6,
   "metadata": {},
   "outputs": [
    {
     "name": "stdout",
     "output_type": "stream",
     "text": [
      "         fof_halo_center_x\n",
      "0                 0.189898\n",
      "1                 0.599965\n",
      "2                 0.891174\n",
      "3                 0.171782\n",
      "4                 0.782605\n",
      "...                    ...\n",
      "3912506         255.978912\n",
      "3912507         255.942001\n",
      "3912508         255.922928\n",
      "3912509         255.993134\n",
      "3912510         255.059692\n",
      "\n",
      "[3912511 rows x 1 columns]\n"
     ]
    }
   ],
   "source": [
    "print(halo_df)"
   ]
  },
  {
   "cell_type": "code",
   "execution_count": 7,
   "metadata": {},
   "outputs": [
    {
     "name": "stdout",
     "output_type": "stream",
     "text": [
      "time in s: 0.03543400764465332 s\n"
     ]
    }
   ],
   "source": [
    "start = time.time()\n",
    "halo_selected_scalars = ['fof_halo_center_x']\n",
    "halo_df = gio.read(halo_file_name, halo_selected_scalars)\n",
    "end = time.time()\n",
    "print(\"time in s:\", (end-start), \"s\")"
   ]
  },
  {
   "cell_type": "code",
   "execution_count": null,
   "metadata": {},
   "outputs": [],
   "source": []
  },
  {
   "cell_type": "code",
   "execution_count": null,
   "metadata": {},
   "outputs": [],
   "source": []
  },
  {
   "cell_type": "code",
   "execution_count": null,
   "metadata": {},
   "outputs": [],
   "source": [
    "num_halo_scalars, halo_scalars = gio.get_scalars(halo_file_name)\n",
    "print(halo_scalars)"
   ]
  },
  {
   "cell_type": "code",
   "execution_count": null,
   "metadata": {},
   "outputs": [],
   "source": []
  },
  {
   "cell_type": "code",
   "execution_count": null,
   "metadata": {},
   "outputs": [],
   "source": [
    "num_halo_elems = gio.get_num_elements(halo_file_name)\n",
    "print(num_halo_elems)"
   ]
  },
  {
   "cell_type": "code",
   "execution_count": null,
   "metadata": {},
   "outputs": [],
   "source": [
    "halo_selected_scalars = ['fof_halo_count', 'fof_halo_tag', 'fof_halo_mass', 'fof_halo_center_x', 'fof_halo_center_y', 'fof_halo_center_z', 'fof_halo_mean_x', 'fof_halo_mean_y', 'fof_halo_mean_z']\n",
    "halo_df = gio.create_dataframe(halo_file_name, halo_selected_scalars)\n",
    "halo_df"
   ]
  },
  {
   "cell_type": "code",
   "execution_count": null,
   "metadata": {},
   "outputs": [],
   "source": [
    "filtered_halo_df = halo_df[(halo_df['fof_halo_count'] > 500000)]\n",
    "filtered_halo_df"
   ]
  },
  {
   "cell_type": "code",
   "execution_count": null,
   "metadata": {},
   "outputs": [],
   "source": [
    "#particle_file_name = input()\n",
    "particle_file_name = \"/Users/pascalgrosset/data/Argonne/STEP499/m000.full.mpicosmo.499\"\n",
    "#/datastore/Cosmology/STEP499/m000.full.mpicosmo.499"
   ]
  },
  {
   "cell_type": "code",
   "execution_count": null,
   "metadata": {},
   "outputs": [],
   "source": [
    "num_particles = gio.get_num_elements(particle_file_name)\n",
    "print(num_particles)"
   ]
  },
  {
   "cell_type": "code",
   "execution_count": null,
   "metadata": {},
   "outputs": [],
   "source": [
    "num_particle_scalars, particle_scalars = gio.get_scalars(particle_file_name)\n",
    "print(particle_scalars)"
   ]
  },
  {
   "cell_type": "code",
   "execution_count": null,
   "metadata": {},
   "outputs": [],
   "source": [
    "extents = [ 197,198, 198,199, 163,164]\n",
    "num_ranks, ranks = gio.get_ranks_in(particle_file_name, extents)\n",
    "print(ranks)\n",
    "print(num_ranks)"
   ]
  },
  {
   "cell_type": "code",
   "execution_count": null,
   "metadata": {},
   "outputs": [],
   "source": [
    "selected_rank_particle_df = gio.create_dataframe(particle_file_name, ['id','x','y','z'], ranks)"
   ]
  },
  {
   "cell_type": "code",
   "execution_count": null,
   "metadata": {
    "scrolled": true
   },
   "outputs": [],
   "source": [
    "selected_rank_particle_df"
   ]
  },
  {
   "cell_type": "code",
   "execution_count": null,
   "metadata": {},
   "outputs": [],
   "source": [
    "#halo_partilce_tags = input()\n",
    "halo_partilce_tags = \"/Users/pascalgrosset/data/Argonne/Halos/STEP499/m000-499.haloparticletags\"\n",
    "#halo_partilce_tags = \"/Users/pascalgrosset/data/Argonne/Halos/STEP499/m000-499.haloparticletags\"\n",
    "#/datastore/Cosmology/Halos/b0168/STEP499/m000-499.haloparticletags"
   ]
  },
  {
   "cell_type": "code",
   "execution_count": null,
   "metadata": {},
   "outputs": [],
   "source": [
    "num_hpt_scalars, hpt_scalars = gio.get_scalars(halo_partilce_tags)\n",
    "print(hpt_scalars)"
   ]
  },
  {
   "cell_type": "code",
   "execution_count": null,
   "metadata": {},
   "outputs": [],
   "source": [
    "halo_part_tags_df = gio.create_dataframe(halo_partilce_tags, hpt_scalars)"
   ]
  },
  {
   "cell_type": "code",
   "execution_count": null,
   "metadata": {},
   "outputs": [],
   "source": [
    "max_tag_df = halo_part_tags_df[(halo_part_tags_df['fof_halo_tag'] == 762035800)]"
   ]
  },
  {
   "cell_type": "code",
   "execution_count": null,
   "metadata": {},
   "outputs": [],
   "source": [
    "max_tag_df"
   ]
  },
  {
   "cell_type": "code",
   "execution_count": null,
   "metadata": {},
   "outputs": [],
   "source": [
    "joined = dd.merge(selected_rank_particle_df, max_tag_df, on='id')"
   ]
  },
  {
   "cell_type": "code",
   "execution_count": null,
   "metadata": {},
   "outputs": [],
   "source": [
    "joined"
   ]
  },
  {
   "cell_type": "code",
   "execution_count": null,
   "metadata": {},
   "outputs": [],
   "source": [
    "joined.to_csv(\"halo_762035800.csv\", sep=',', index=False)"
   ]
  },
  {
   "cell_type": "code",
   "execution_count": null,
   "metadata": {},
   "outputs": [],
   "source": []
  }
 ],
 "metadata": {
  "kernelspec": {
   "display_name": "Python 3",
   "language": "python",
   "name": "python3"
  },
  "language_info": {
   "codemirror_mode": {
    "name": "ipython",
    "version": 3
   },
   "file_extension": ".py",
   "mimetype": "text/x-python",
   "name": "python",
   "nbconvert_exporter": "python",
   "pygments_lexer": "ipython3",
   "version": "3.7.3"
  }
 },
 "nbformat": 4,
 "nbformat_minor": 2
}
